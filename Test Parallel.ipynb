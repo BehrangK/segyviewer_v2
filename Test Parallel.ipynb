{
 "cells": [
  {
   "cell_type": "markdown",
   "metadata": {},
   "source": [
    "# This is a simple jupyte notebook to test parallel programming in Python\n",
    "\n",
    "## first install the followings:\n",
    "\n",
    "\n",
    "### pip install conda\n",
    "### conda install -c conda-forge numpy scipy joblib jupyter time"
   ]
  },
  {
   "cell_type": "code",
   "execution_count": 1,
   "metadata": {},
   "outputs": [],
   "source": [
    "\n",
    "import numpy as np\n",
    "import time\n",
    "from scipy import ndimage\n",
    "from joblib import Parallel, delayed\n",
    "\n",
    "def array_for_sliding_window(x, wshape):\n",
    " \n",
    "    x = np.asarray(x)\n",
    "\n",
    "    try:\n",
    "        nd = len(wshape)\n",
    "    except TypeError:\n",
    "        wshape = tuple(wshape for i in x.shape)\n",
    "        nd = len(wshape)\n",
    "    if nd != x.ndim:\n",
    "        raise ValueError(\"wshape has length {0} instead of \"\n",
    "                         \"x.ndim which is {1}\".format(len(wshape), x.ndim)) \n",
    "    \n",
    "    out_shape = tuple(xi-wi+1 for xi, wi in zip(x.shape, wshape)) + wshape\n",
    "    if not all(i>0 for i in out_shape):\n",
    "        raise ValueError(\"wshape is bigger than input array along at \"\n",
    "                         \"least one dimension\")\n",
    "\n",
    "    out_strides = x.strides*2\n",
    "    \n",
    "    return np.lib.stride_tricks.as_strided(x, out_shape, out_strides)\n",
    "\n",
    "\n",
    "def marfurt_semblance2(region):\n",
    "    region = region.reshape(-1, region.shape[-1])\n",
    "    ntraces, nsamples = region.shape\n",
    "\n",
    "    cov = region.dot(region.T)\n",
    "    sembl = cov.sum() / cov.diagonal().sum()\n",
    "    return sembl / ntraces\n"
   ]
  },
  {
   "cell_type": "code",
   "execution_count": 2,
   "metadata": {},
   "outputs": [
    {
     "name": "stdout",
     "output_type": "stream",
     "text": [
      "running in a single core\n",
      "Elapsed time(seconds):  9.05\n"
     ]
    }
   ],
   "source": [
    "np.random.seed(10)\n",
    "a=np.random.random((100,100,100))\n",
    "window=(2, 2,2)\n",
    "\n",
    "\n",
    "print('running in a single core')\n",
    "\n",
    "s=time.time()\n",
    "wrapped = lambda region: marfurt_semblance2(region.reshape(window))\n",
    "r0=ndimage.generic_filter(a, wrapped, window)\n",
    "print('Elapsed time(seconds): ',round(time.time()-s,2))\n",
    "\n"
   ]
  },
  {
   "cell_type": "code",
   "execution_count": 3,
   "metadata": {},
   "outputs": [
    {
     "name": "stdout",
     "output_type": "stream",
     "text": [
      "(99, 99, 99, 2, 2, 2)\n",
      "running in parallel\n",
      "Elapsed time:  245.61\n"
     ]
    }
   ],
   "source": [
    "\n",
    "\n",
    "b=array_for_sliding_window(a,window)\n",
    "print(b.shape)\n",
    "r=np.zeros(a.shape)\n",
    "\n",
    "\n",
    "\n",
    "\n",
    "def runit(nrun=60):    \n",
    "    print('running in parallel')\n",
    "    a=Parallel(n_jobs=nrun,prefer=\"threads\")(\n",
    "            delayed(marfurt_semblance2)(b[i]) for i in np.ndindex(b.shape[:-len(window)]))\n",
    "    return(a)\n",
    "\n",
    "if __name__ == '__main__':\n",
    "    s=time.time()\n",
    "    a=runit(nrun=60)\n",
    "    #a=np.array(a,)\n",
    "    print('Elapsed time: ',round(time.time()-s,2))\n",
    "\n"
   ]
  }
 ],
 "metadata": {
  "kernelspec": {
   "display_name": "Python 3",
   "language": "python",
   "name": "python3"
  },
  "language_info": {
   "codemirror_mode": {
    "name": "ipython",
    "version": 3
   },
   "file_extension": ".py",
   "mimetype": "text/x-python",
   "name": "python",
   "nbconvert_exporter": "python",
   "pygments_lexer": "ipython3",
   "version": "3.8.2"
  }
 },
 "nbformat": 4,
 "nbformat_minor": 4
}
